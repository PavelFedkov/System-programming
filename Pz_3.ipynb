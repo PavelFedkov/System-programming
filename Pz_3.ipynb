{
  "nbformat": 4,
  "nbformat_minor": 0,
  "metadata": {
    "colab": {
      "provenance": [],
      "authorship_tag": "ABX9TyOy2RQIusesyZM2Q9cHmA5h",
      "include_colab_link": true
    },
    "kernelspec": {
      "name": "python3",
      "display_name": "Python 3"
    },
    "language_info": {
      "name": "python"
    }
  },
  "cells": [
    {
      "cell_type": "markdown",
      "metadata": {
        "id": "view-in-github",
        "colab_type": "text"
      },
      "source": [
        "<a href=\"https://colab.research.google.com/github/PrihodkoDaniil/System-programming/blob/main/Pz_3.ipynb\" target=\"_parent\"><img src=\"https://colab.research.google.com/assets/colab-badge.svg\" alt=\"Open In Colab\"/></a>"
      ]
    },
    {
      "cell_type": "code",
      "execution_count": 41,
      "metadata": {
        "colab": {
          "base_uri": "https://localhost:8080/"
        },
        "id": "aybb0k79ysaT",
        "outputId": "ae5085a7-edd3-44d6-c108-675c8fad8f2d"
      },
      "outputs": [
        {
          "output_type": "execute_result",
          "data": {
            "text/plain": [
              "<bound method Image.close of <PIL.JpegImagePlugin.JpegImageFile image mode=RGB size=480x360 at 0x7FFAB6467E10>>"
            ]
          },
          "metadata": {},
          "execution_count": 41
        }
      ],
      "source": [
        "from PIL import Image, ImageDraw\n",
        "im = Image.new('RGB', (500, 300), (219, 193, 27))\n",
        "draw = ImageDraw.Draw(im)\n",
        "draw.ellipse((100, 100, 150, 200), fill='red', outline=(0, 0, 0))\n",
        "im.save(\"new.png\", \"PNG\")\n",
        "image = Image.open('jack.jpg')\n",
        "image.show()\n",
        "draw.text((100,100),'I hate this method',fill=('#1C0606'))\n",
        "im.save(\"text.png\")\n",
        "im3 = Image.open('text.png')\n",
        "image.paste(im3)\n",
        "image.save('jack2.jpg', quality=95)\n",
        "im3.close\n",
        "image.close\n"
      ]
    }
  ]
}