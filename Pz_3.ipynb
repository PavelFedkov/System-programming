{
  "nbformat": 4,
  "nbformat_minor": 0,
  "metadata": {
    "colab": {
      "provenance": [],
      "toc_visible": true,
      "authorship_tag": "ABX9TyNhu9zYV01EXGGE5hpIgomu",
      "include_colab_link": true
    },
    "kernelspec": {
      "name": "python3",
      "display_name": "Python 3"
    },
    "language_info": {
      "name": "python"
    }
  },
  "cells": [
    {
      "cell_type": "markdown",
      "metadata": {
        "id": "view-in-github",
        "colab_type": "text"
      },
      "source": [
        "<a href=\"https://colab.research.google.com/github/PrihodkoDaniil/System-programming/blob/main/Pz_3.ipynb\" target=\"_parent\"><img src=\"https://colab.research.google.com/assets/colab-badge.svg\" alt=\"Open In Colab\"/></a>"
      ]
    },
    {
      "cell_type": "code",
      "execution_count": 2,
      "metadata": {
        "id": "aybb0k79ysaT"
      },
      "outputs": [],
      "source": [
        "from PIL import Image, ImageDraw\n",
        "im = Image.new('RGB', (500, 300), (219, 193, 27))\n",
        "draw = ImageDraw.Draw(im)\n",
        "draw.ellipse((100, 100, 150, 200), fill='red', outline=(0, 0, 0))\n",
        "im.save(\"new.png\", \"PNG\")\n",
        "draw.text((100,100),'I hate this method',fill=('#1C0606'))\n",
        "im.save(\"text.png\")\n",
        "\n"
      ]
    }
  ]
}